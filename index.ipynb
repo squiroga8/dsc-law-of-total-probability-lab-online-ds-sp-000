{
 "cells": [
  {
   "cell_type": "markdown",
   "metadata": {},
   "source": [
    "# Partitioning and Law of Total Probability - Lab\n",
    "\n",
    "## Introduction \n",
    "In this lab, you'll practice your knowledge of the law of total probability. In probability theory, the law (or formula) of total probability is a fundamental rule relating **marginal probabilities** to **conditional probabilities**.\n",
    "\n",
    "## Objectives\n",
    "\n",
    "You will be able to:\n",
    "* Understand and explain the concept of event space and partitioning \n",
    "* State the law of total probabilities based on a partitioned event space\n",
    "* Understand and be able to perform partitioning based on known and unknown probabilities to solve a problem"
   ]
  },
  {
   "cell_type": "markdown",
   "metadata": {},
   "source": [
    "## Exercise 1\n",
    "Imagine you have two hats: one has 4 red balls and 6 green balls, the other has 6 red and 4 green. We toss a fair coin, if heads, you will pick a random ball from the first hat, if tails you will pick one from the second hat. \n",
    "\n",
    "What is the probability of getting a red ball?"
   ]
  },
  {
   "cell_type": "code",
   "execution_count": 2,
   "metadata": {
    "ExecuteTime": {
     "end_time": "2019-10-24T11:06:34.771302Z",
     "start_time": "2019-10-24T11:06:34.766492Z"
    }
   },
   "outputs": [
    {
     "name": "stdout",
     "output_type": "stream",
     "text": [
      "0.5\n"
     ]
    }
   ],
   "source": [
    "# Your code here\n",
    "probH = 0.5\n",
    "probT = 0.5\n",
    "\n",
    "probRedH1 = 0.4\n",
    "probRedH2 = 0.6\n",
    "\n",
    "probR = probRedH1*probH + probRedH2*probT\n",
    "print(probR)"
   ]
  },
  {
   "cell_type": "markdown",
   "metadata": {},
   "source": [
    "## Exercise 2\n",
    "In games where at least one goal is made, a soccer team wins 60% of its games when it scores the first goal, and 10% of its games when the opposing team \n",
    "scores first. \n",
    "\n",
    "If the team scores the first goal about 30% of the time, what fraction of the games does it win?"
   ]
  },
  {
   "cell_type": "code",
   "execution_count": 1,
   "metadata": {
    "ExecuteTime": {
     "end_time": "2019-10-24T11:16:06.933480Z",
     "start_time": "2019-10-24T11:16:06.898244Z"
    }
   },
   "outputs": [
    {
     "data": {
      "text/plain": [
       "0.25"
      ]
     },
     "execution_count": 1,
     "metadata": {},
     "output_type": "execute_result"
    }
   ],
   "source": [
    "# Your code here\n",
    "first_goal_win = .6\n",
    "other_scored = .1\n",
    "\n",
    "prob_of_scoring_first = .30\n",
    "\n",
    "prob_win = first_goal_win * prob_of_scoring_first + other_scored*(1-prob_of_scoring_first)\n",
    "prob_win"
   ]
  },
  {
   "cell_type": "markdown",
   "metadata": {},
   "source": [
    "## Exercise 3"
   ]
  },
  {
   "cell_type": "markdown",
   "metadata": {},
   "source": [
    "In Europe, except for regular gas, cars often run on diesel as well. At a gas station in Paris; \n",
    "\n",
    "\n",
    "* 40% of the customers fill up with diesel (event G1) \n",
    "* 35% with gas \"Super 95\" (event G2)\n",
    "* 25% with gas \"Super 98\" (event G3). \n",
    "\n",
    "\n",
    "* 30% of the customers who buy diesel fill their tank completely (event F). \n",
    "* For \"Super 95\" and \"Super 98\", these numbers are  60% and 50%, respectively.\n",
    "\n",
    "\n",
    "- Compute the probability that the next customer completely fills their tank and buys Super 95. \n",
    "- Compute the probability that the next customer completely fills their tank\n",
    "- Given that the next customer fills their tank completely, compute the probability that they bought diesel. \n",
    "\n",
    "Hint: Consult the theorems for conditional probability, check for dependence or independence of events"
   ]
  },
  {
   "cell_type": "code",
   "execution_count": 3,
   "metadata": {
    "ExecuteTime": {
     "end_time": "2019-10-24T11:25:39.479643Z",
     "start_time": "2019-10-24T11:25:39.465609Z"
    }
   },
   "outputs": [
    {
     "name": "stdout",
     "output_type": "stream",
     "text": [
      "prob that next customer fully fills tank and buys Super 95: 0.21\n"
     ]
    }
   ],
   "source": [
    "# Your code here\n",
    "G1 = .4\n",
    "G2 = .35\n",
    "G3 = .25\n",
    "\n",
    "F1 = .3\n",
    "F2 = .6\n",
    "F3 = .5\n",
    "\n",
    "prob_F2andG2 = F2*G2\n",
    "print(\"prob that next customer fully fills tank and buys Super 95: {}\".format(prob_F2andG2))\n"
   ]
  },
  {
   "cell_type": "code",
   "execution_count": 5,
   "metadata": {
    "ExecuteTime": {
     "end_time": "2019-10-24T11:27:26.781337Z",
     "start_time": "2019-10-24T11:27:26.776403Z"
    }
   },
   "outputs": [
    {
     "name": "stdout",
     "output_type": "stream",
     "text": [
      "prob that next customer fully fills tank: 0.45499999999999996\n"
     ]
    }
   ],
   "source": [
    "# Compute the probability that the next customer completely fills their tank\n",
    "prob_fulltank = G1*F1 + G2*F2 + G3*F3\n",
    "print(\"prob that next customer fully fills tank: {}\".format(prob_fulltank))"
   ]
  },
  {
   "cell_type": "code",
   "execution_count": 6,
   "metadata": {
    "ExecuteTime": {
     "end_time": "2019-10-24T11:35:38.361129Z",
     "start_time": "2019-10-24T11:35:38.347328Z"
    }
   },
   "outputs": [
    {
     "name": "stdout",
     "output_type": "stream",
     "text": [
      "prob that next customer buys diesel given fill tank completely: 0.26373626373626374\n"
     ]
    }
   ],
   "source": [
    "# Given that the next customer fills their tank completely, compute the probability that they bought diesel.\n",
    "prob_G1givenfulltank = (G1*F1)/prob_fulltank\n",
    "print(\"prob that next customer buys diesel given fill tank completely: {}\".format(prob_G1givenfulltank))"
   ]
  },
  {
   "cell_type": "markdown",
   "metadata": {},
   "source": [
    "## Exercise 4"
   ]
  },
  {
   "cell_type": "markdown",
   "metadata": {},
   "source": [
    "United Airlines operates flights from JFK to Amsterdam, to Brussels, and to Copenhagen. As you may know, flights are overbooked fairly often. Let's denote the probability of the flight to Amsterdam being overbooked equal to 40%, the probability of the flight to Brussels being overbooked equal to 25%, and the probability of the flight to Copenhagen being overbooked equal to 35%. You can assume that these events of overbooking are independent events."
   ]
  },
  {
   "cell_type": "markdown",
   "metadata": {},
   "source": [
    "- Compute the probability that all the flights are overbooked.\n",
    "- Compute the probability of having at least one flight which is not overbooked.\n",
    "- Compute the probability that exactly one flight is overbooked."
   ]
  },
  {
   "cell_type": "code",
   "execution_count": 7,
   "metadata": {
    "ExecuteTime": {
     "end_time": "2019-10-24T11:55:43.327675Z",
     "start_time": "2019-10-24T11:55:43.317318Z"
    }
   },
   "outputs": [],
   "source": [
    "# Your code here\n",
    "obAms = .4\n",
    "obBru = .25\n",
    "obCop = .35"
   ]
  },
  {
   "cell_type": "code",
   "execution_count": 8,
   "metadata": {
    "ExecuteTime": {
     "end_time": "2019-10-24T11:55:50.334016Z",
     "start_time": "2019-10-24T11:55:50.327978Z"
    }
   },
   "outputs": [
    {
     "data": {
      "text/plain": [
       "0.034999999999999996"
      ]
     },
     "execution_count": 8,
     "metadata": {},
     "output_type": "execute_result"
    }
   ],
   "source": [
    "allob = obAms*obBru*obCop\n",
    "allob"
   ]
  },
  {
   "cell_type": "code",
   "execution_count": 9,
   "metadata": {
    "ExecuteTime": {
     "end_time": "2019-10-24T11:56:40.476992Z",
     "start_time": "2019-10-24T11:56:40.472227Z"
    }
   },
   "outputs": [
    {
     "data": {
      "text/plain": [
       "0.965"
      ]
     },
     "execution_count": 9,
     "metadata": {},
     "output_type": "execute_result"
    }
   ],
   "source": [
    "# Compute the probability of having at least one flight which is not overbooked.\n",
    "notob = 1-allob\n",
    "notob"
   ]
  },
  {
   "cell_type": "code",
   "execution_count": null,
   "metadata": {},
   "outputs": [],
   "source": [
    "# p_just_one = p(amsterdam_just one) + p(brussels_just_one) + p(cop_just_one)\n",
    "p_amsterdam_just_one = 0.4*0.75*0.65 # (1-p for other flights)\n",
    "p_brussels_just_one = 0.6*0.25*0.65\n",
    "p_copenhagen_just_one = 0.6*0.75*0.35\n",
    "\n",
    "# When two events, A and B, are mutually exclusive, there is no overlap between these events. \n",
    "# The probability that A and B is the sum of the probability of each event\n",
    "p_just_one = p_amsterdam_just_one + p_brussels_just_one + p_copenhagen_just_one\n",
    "\n",
    "p_just_one # 0.45"
   ]
  },
  {
   "cell_type": "code",
   "execution_count": 10,
   "metadata": {
    "ExecuteTime": {
     "end_time": "2019-10-24T12:15:20.883051Z",
     "start_time": "2019-10-24T12:15:20.865359Z"
    }
   },
   "outputs": [
    {
     "data": {
      "text/plain": [
       "0.45"
      ]
     },
     "execution_count": 10,
     "metadata": {},
     "output_type": "execute_result"
    }
   ],
   "source": [
    "# Compute the probability that exactly one flight is overbooked.\n",
    "oneAm = obAms * (1-obBru) * (1-obCop)\n",
    "oneBru = (1-obAms) * (obBru) * (1-obCop)\n",
    "oneCop = (1-obAms) * (1-obBru) * (obCop)\n",
    "\n",
    "just_one = oneAm + oneBru + oneCop\n",
    "just_one"
   ]
  },
  {
   "cell_type": "markdown",
   "metadata": {},
   "source": [
    "## Exercise 5\n",
    "You have three bags that each contain 100 marbles:\n",
    "\n",
    "- Bag 1 has 75 red and 25 blue marbles;\n",
    "- Bag 2 has 60 red and 40 blue marbles;\n",
    "- Bag 3 has 45 red and 55 blue marbles.\n",
    "\n",
    "You choose one of the bags at random and then pick a marble from the chosen bag, also at random. \n",
    "\n",
    "What is the probability that the chosen marble is red?\n"
   ]
  },
  {
   "cell_type": "code",
   "execution_count": 11,
   "metadata": {
    "ExecuteTime": {
     "end_time": "2019-10-24T12:18:51.877204Z",
     "start_time": "2019-10-24T12:18:51.865128Z"
    }
   },
   "outputs": [],
   "source": [
    "# Your code here\n",
    "redB1 = .75\n",
    "blueB1 = .25\n",
    "redB2 = .6\n",
    "blueB2 = .4\n",
    "redB3 = .45\n",
    "blueB3 = .55\n",
    "\n",
    "bagchoice = (1/3)"
   ]
  },
  {
   "cell_type": "code",
   "execution_count": 12,
   "metadata": {
    "ExecuteTime": {
     "end_time": "2019-10-24T12:20:04.491474Z",
     "start_time": "2019-10-24T12:20:04.485557Z"
    }
   },
   "outputs": [
    {
     "data": {
      "text/plain": [
       "0.6"
      ]
     },
     "execution_count": 12,
     "metadata": {},
     "output_type": "execute_result"
    }
   ],
   "source": [
    "prob_red = bagchoice*redB1 + bagchoice*redB2 + bagchoice*redB3\n",
    "prob_red"
   ]
  },
  {
   "cell_type": "markdown",
   "metadata": {},
   "source": [
    "## Summary \n",
    "\n",
    "In this lab, you practiced conditional probability and its theorem with some simple problems. The key takeaway from this lab is to be able to identify random events as dependent or independent and calculating the probability of their occurrence using appropriate methods. Next, you'll take this knowledge a step further and run simulations with conditional and total probability. "
   ]
  }
 ],
 "metadata": {
  "kernelspec": {
   "display_name": "learn-env",
   "language": "python",
   "name": "learn-env"
  },
  "language_info": {
   "codemirror_mode": {
    "name": "ipython",
    "version": 3
   },
   "file_extension": ".py",
   "mimetype": "text/x-python",
   "name": "python",
   "nbconvert_exporter": "python",
   "pygments_lexer": "ipython3",
   "version": "3.6.9"
  },
  "toc": {
   "base_numbering": 1,
   "nav_menu": {},
   "number_sections": true,
   "sideBar": true,
   "skip_h1_title": false,
   "title_cell": "Table of Contents",
   "title_sidebar": "Contents",
   "toc_cell": false,
   "toc_position": {},
   "toc_section_display": true,
   "toc_window_display": false
  },
  "varInspector": {
   "cols": {
    "lenName": 16,
    "lenType": 16,
    "lenVar": 40
   },
   "kernels_config": {
    "python": {
     "delete_cmd_postfix": "",
     "delete_cmd_prefix": "del ",
     "library": "var_list.py",
     "varRefreshCmd": "print(var_dic_list())"
    },
    "r": {
     "delete_cmd_postfix": ") ",
     "delete_cmd_prefix": "rm(",
     "library": "var_list.r",
     "varRefreshCmd": "cat(var_dic_list()) "
    }
   },
   "types_to_exclude": [
    "module",
    "function",
    "builtin_function_or_method",
    "instance",
    "_Feature"
   ],
   "window_display": true
  }
 },
 "nbformat": 4,
 "nbformat_minor": 2
}
